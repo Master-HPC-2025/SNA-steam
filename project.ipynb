{
 "cells": [
  {
   "cell_type": "code",
   "execution_count": 10,
   "id": "678b28c8",
   "metadata": {},
   "outputs": [],
   "source": [
    "import networkx as nx\n",
    "import matplotlib.pyplot as plt\n",
    "import scipy\n",
    "import scipy.io as io\n",
    "import numpy as np\n",
    "import pprint\n",
    "import collections\n",
    "import powerlaw"
   ]
  },
  {
   "cell_type": "code",
   "execution_count": 11,
   "id": "e8b1dc6d",
   "metadata": {},
   "outputs": [
    {
     "name": "stdout",
     "output_type": "stream",
     "text": [
      "Nodes: 2500, Edges: 2511\n",
      "First 10 edges: [(0, 1), (0, 2), (0, 4), (0, 5), (0, 6), (0, 7), (0, 8), (0, 9), (0, 10), (0, 11)]\n"
     ]
    }
   ],
   "source": [
    "matrix = io.mmread('network/multi_start.mtx')\n",
    "\n",
    "G = nx.from_scipy_sparse_array(matrix, parallel_edges=False)\n",
    "\n",
    "print(f\"Nodes: {G.number_of_nodes()}, Edges: {G.number_of_edges()}\")\n",
    "print(\"First 10 edges:\", list(G.edges())[:10])"
   ]
  },
  {
   "cell_type": "markdown",
   "id": "d9e81a16",
   "metadata": {},
   "source": [
    "Gather some insights into the description of the network."
   ]
  },
  {
   "cell_type": "code",
   "execution_count": 12,
   "id": "da373a45",
   "metadata": {},
   "outputs": [
    {
     "name": "stdout",
     "output_type": "stream",
     "text": [
      "\n",
      "Network Description for Original Network:\n",
      "Number of nodes: 2500\n",
      "Number of edges: 2511\n",
      "Directed: False\n",
      "Weighted: False\n",
      "Network density: 0.000804\n",
      "\n"
     ]
    }
   ],
   "source": [
    "def describe_network(G, name):\n",
    "    # Basic statistics\n",
    "    num_nodes = G.number_of_nodes()\n",
    "    num_edges = G.number_of_edges()\n",
    "\n",
    "    # Check if graph is directed\n",
    "    is_directed = G.is_directed()\n",
    "\n",
    "    # Check if graph is weighted\n",
    "    is_weighted = any(data.get('weight', 1) != 1 for _, _, data in G.edges(data=True))\n",
    "\n",
    "    # Density\n",
    "    density = nx.density(G)\n",
    "\n",
    "    print(f\"\\nNetwork Description for {name}:\")\n",
    "    print(f\"Number of nodes: {num_nodes}\")\n",
    "    print(f\"Number of edges: {num_edges}\")\n",
    "    print(f\"Directed: {is_directed}\")\n",
    "    print(f\"Weighted: {is_weighted}\")\n",
    "    print(f\"Network density: {density:.6f}\\n\")\n",
    "    return num_nodes, num_edges, is_directed, is_weighted, density\n",
    "\n",
    "    \n",
    "num_nodes, num_edges, is_directed, is_weighted, density = describe_network(G, \"Original Network\")"
   ]
  },
  {
   "cell_type": "markdown",
   "id": "d2f1c744",
   "metadata": {},
   "source": [
    "### Utility code."
   ]
  },
  {
   "cell_type": "code",
   "execution_count": 13,
   "id": "1c23ccfd",
   "metadata": {},
   "outputs": [],
   "source": [
    "#---TODO: add your functions that you'll use in the notebook repeatedly, if any\n",
    "  \n",
    "def degree_summary_and_distribution(G: nx.Graph):\n",
    "    # Degree of a Node: The number of edges connected to a node.\n",
    "    # Interpretation: A node's degree represents how many friends a person has on facebook.\n",
    "\n",
    "    #  - the lowest number of friends\n",
    "    #  - the highest number of friends\n",
    "    #  - the average number of friends\n",
    "    degrees = [d for _, d in G.degree()]\n",
    "    min_degree = np.min(degrees)\n",
    "    max_degree = np.max(degrees)\n",
    "    avg_degree = np.mean(degrees)\n",
    "\n",
    "    print(f\"Min Degree: {min_degree}\")\n",
    "    print(f\"Max Degree: {max_degree}\")\n",
    "    print(f\"Average Degree: {avg_degree}\")\n",
    "\n",
    "    # count how many times each degree appears\n",
    "    degree_count = collections.Counter(degrees)\n",
    "    # sort the info and have separate lists\n",
    "    degree_values, node_counts = zip(*sorted(degree_count.items()))\n",
    "\n",
    "    total = sum(node_counts)\n",
    "    node_counts = [y / total for y in node_counts]\n",
    "\n",
    "    # plot as a dot graph\n",
    "    plt.figure(figsize=(7, 5))\n",
    "    plt.scatter(degree_values, node_counts, alpha=0.6, edgecolors='k')\n",
    "    plt.title(\"Degree Distribution (Dot Plot)\")\n",
    "    plt.xlabel(\"Degree\")\n",
    "    plt.ylabel(\"Number of Nodes\")\n",
    "    plt.grid(True)\n",
    "    plt.show()\n",
    "\n",
    "\n",
    "def connectivity(G: nx.Graph):\n",
    "    is_connected = nx.is_connected(G)\n",
    "    if not is_connected:\n",
    "        # Connected Component: A group of nodes that are connected by paths.\n",
    "        # The connected components can indicate if the network is one big cluster or composed of small ones.\n",
    "        # Interpretation: Groups of friends isolated or interconnected.\n",
    "        connected_components = list(nx.connected_components(G))\n",
    "        num_connected_components = len(connected_components)\n",
    "        largest_component_size = max(len(c) for c in connected_components)\n",
    "        largest_cc = G.subgraph(max(connected_components, key=len))\n",
    "\n",
    "    else:\n",
    "        largest_component_size = len(G)\n",
    "        largest_cc = G\n",
    "        num_connected_components = 1\n",
    "\n",
    "    print(f\"The graph is connected: {is_connected}.\")\n",
    "    print(f\"Number of Connected Components: {num_connected_components}.\")\n",
    "    print(f\"Largest Component Size: {largest_component_size}.\")\n",
    "\n",
    "    # Diameter: the largest distance between any pair of nodes in the network.\n",
    "    # Interpretation: the longest \"friendship chain\" connecting two users.\n",
    "    diameter = nx.diameter(largest_cc) if nx.is_connected(largest_cc) else None\n",
    "    \n",
    "    print(f\"Diameter: {diameter}\")\n",
    "\n",
    "\n",
    "def clustering_coefficient_and_degree_distribution_plot(G: nx.Graph):\n",
    "    # Clustering Coefficient: Measures how tightly connected a node’s neighbors are (how likely it is for 2 nodes with a common neighbor to be linked).\n",
    "    # Interpretation: How interconnected are on average the users. High clustering means high interaction between the friends of an user.\n",
    "    avg_clustering = nx.average_clustering(G)\n",
    "    \n",
    "    print(f\"Average Clustering Coefficient: {avg_clustering}\")\n",
    "\n",
    "    # Edge density: fraction of actual edges compared to the maximum possible edges.\n",
    "    # Used to determine if the clustering coefficient is high or not.\n",
    "    # NOTE: A low density means the network is sparse.\n",
    "    edge_density = nx.density(G)\n",
    "\n",
    "    print(f\"Edge Density: {edge_density}\")\n",
    "    print(f\"Clustering Coefficient is {\"high\" if avg_clustering > edge_density else \"low\"} compared to the edge density.\")\n",
    "\n",
    "    # plot clustering coefficient probability per degree\n",
    "    degree_per_node = dict(G.degree())\n",
    "    clustering_per_node = nx.clustering(G)\n",
    "\n",
    "    # group clustering coefficients by degree\n",
    "    clustering_by_degree = {}\n",
    "    for node in G.nodes():\n",
    "        k = degree_per_node[node]\n",
    "        c = clustering_per_node[node]\n",
    "        # if key already exists, make no change, else give a default\n",
    "        clustering_by_degree.setdefault(k, [])\n",
    "        clustering_by_degree[k].append(c)\n",
    "\n",
    "    # compute average clustering coefficient per degree\n",
    "    sorted_degrees = sorted(clustering_by_degree)\n",
    "    avg_clustering_values_per_degree = [np.mean(clustering_by_degree[degree]) for degree in sorted_degrees]\n",
    "\n",
    "    # Plot in log-log scale\n",
    "    plt.figure(figsize=(6, 5))\n",
    "    plt.scatter(sorted_degrees, avg_clustering_values_per_degree, alpha=0.6, edgecolors='k')\n",
    "    plt.xlabel('Degree $k$')\n",
    "    plt.ylabel('Clustering Coefficient $C(k)$')\n",
    "    plt.title('Clustering Coefficient vs Degree')\n",
    "    plt.grid(True)\n",
    "    plt.show()\n",
    "    \n",
    "    return avg_clustering\n",
    "\n",
    "\n",
    "def betweenness_centrality_distribution(G: nx.Graph):\n",
    "    # Betweenness Centrality: measures how often a node appears on shortest paths between other nodes.\n",
    "    # Interpretation: People with high betweeness are the connection between two separate groups. They transfer information between the groups.\n",
    "    \n",
    "    betweenness = list(nx.betweenness_centrality(G).values())\n",
    "\n",
    "    avg_betweenness = np.mean(betweenness)\n",
    "    max_betweenness = np.max(betweenness)\n",
    "\n",
    "    print(f\"Average Betweenness Centrality: {avg_betweenness}\")\n",
    "    print(f\"Max Betweenness Centrality: {max_betweenness}\")\n",
    "\n",
    "    # Plot distribution\n",
    "    plt.figure()\n",
    "    plt.hist(betweenness, bins=\"auto\", edgecolor=\"black\", linewidth=0.2)\n",
    "    plt.title(\"Betweenness Centrality Distribution\")\n",
    "    plt.xlabel(\"Betweenness Centrality\")\n",
    "    plt.ylabel(\"Frequency\")\n",
    "    # to diminish the big spikes in the plot \n",
    "    plt.yscale(\"log\")\n",
    "    plt.show()\n",
    "\n",
    "\n",
    "def shortest_path_length_and_plot(largest_cc: nx.Graph):\n",
    "    # Shortest path: minimum number of edges required to travel from one node to another.\n",
    "    # Interpretation: The degree of separation between two users measured in friendships. \n",
    "    # NOTE: compare with no. nodes? \n",
    "    \n",
    "    avg_shortest_path_length = nx.average_shortest_path_length(largest_cc)\n",
    "    diameter = nx.diameter(largest_cc)\n",
    "\n",
    "    print(f\"Average Shortest Path Length: {avg_shortest_path_length}\")\n",
    "    print(f\" - Diameter: {diameter}\")\n",
    "\n",
    "    # compute shortest paths between all node pairs\n",
    "    lengths = dict(nx.all_pairs_shortest_path_length(largest_cc))\n",
    "\n",
    "    # flatten distances into a list\n",
    "    distance_counts = {}\n",
    "    for source in lengths:\n",
    "        for target in lengths[source]:\n",
    "            if source != target:  # exclude self-loops\n",
    "                d = lengths[source][target]\n",
    "                distance_counts[d] = distance_counts.get(d, 0) + 1\n",
    "\n",
    "    # normalize to get probability distribution\n",
    "    total_pairs = sum(distance_counts.values())\n",
    "    d_vals = sorted(distance_counts.keys())\n",
    "    p_vals = [distance_counts[d] / total_pairs for d in d_vals]\n",
    "\n",
    "    # plot probability distribution\n",
    "    plt.figure(figsize=(7, 5))\n",
    "    plt.plot(d_vals, p_vals, marker='o', alpha=0.6)\n",
    "    plt.title(\"Shortest Path Length Distribution\")\n",
    "    plt.xlabel(\"Shortest Path Length $d$\")\n",
    "    plt.ylabel(\"Probability $p_d$\")\n",
    "    plt.axvline(x=np.average(d_vals, weights=p_vals), linestyle='--', color='gray', label='Average ⟨d⟩')\n",
    "    plt.legend()\n",
    "    plt.grid(True)\n",
    "    plt.show()"
   ]
  },
  {
   "cell_type": "code",
   "execution_count": 14,
   "id": "5e1fe677",
   "metadata": {},
   "outputs": [],
   "source": [
    "def compute_and_display_betweenness_centrality(G, graph_name):\n",
    "    \"\"\"\n",
    "    Betweenness centrality measures how often a node lies on the shortest paths between others.\n",
    "    High values indicate nodes that act as bridges in the network.\n",
    "    \"\"\"\n",
    "    print(f\"\\n=== {graph_name} ===\")\n",
    "\n",
    "    betweenness = nx.betweenness_centrality(G)\n",
    "    bc_sorted = sorted(betweenness.items(), key=lambda item: item[1], reverse=True)\n",
    "\n",
    "    print(\"Top 5 nodes by Betweenness Centrality:\")\n",
    "    for i in range(5):\n",
    "        node, centrality = bc_sorted[i]\n",
    "        print(f\"Node {node}: {centrality:.4f}\")\n",
    "\n",
    "    return betweenness  \n",
    "\n",
    "def compute_and_display_closeness_centrality(G, graph_name):\n",
    "    \"\"\"\n",
    "    Closeness centrality shows how close a node is to all other nodes in the network.\n",
    "    A high value means the node can quickly interact with others.\n",
    "    \"\"\"\n",
    "    print(f\"\\n=== {graph_name} ===\")\n",
    "\n",
    "    closeness = nx.closeness_centrality(G)\n",
    "    cc_sorted = sorted(closeness.items(), key=lambda item: item[1], reverse=True)\n",
    "\n",
    "    print(\"Top 5 nodes by Closeness Centrality:\")\n",
    "    for i in range(5):\n",
    "        node, centrality = cc_sorted[i]\n",
    "        print(f\"Node {node}: {centrality:.4f}\")\n",
    "    \n",
    "    return closeness  \n",
    "\n",
    "def compute_and_display_eigenvector_centrality(G, graph_name):\n",
    "    \"\"\"\n",
    "    Eigenvector centrality reflects both the quantity and quality of a node’s connections.\n",
    "    Nodes connected to other high-scoring nodes receive higher scores.\n",
    "    \"\"\"\n",
    "    print(f\"\\n=== {graph_name} ===\")\n",
    "    \n",
    "    try:\n",
    "        eigenvector = nx.eigenvector_centrality(G, max_iter=1000)\n",
    "        ev_sorted = sorted(eigenvector.items(), key=lambda item: item[1], reverse=True)\n",
    "\n",
    "        print(\"Top 5 nodes by Eigenvector Centrality:\")\n",
    "        for i in range(5):\n",
    "            node, centrality = ev_sorted[i]\n",
    "            print(f\"Node {node}: {centrality:.4f}\")\n",
    "\n",
    "        return eigenvector  \n",
    "\n",
    "    except nx.NetworkXError as e:\n",
    "        print(f\"⚠️ Could not compute eigenvector centrality for {graph_name}: {e}\")\n",
    "        return None\n",
    "\n",
    "def plot_vs_degree(G, data, title, x_label, y_label):\n",
    "    degree = nx.degree_centrality(G)\n",
    "\n",
    "    x = [data[node] for node in G.nodes()]\n",
    "    y = [degree[node] for node in G.nodes()]\n",
    "\n",
    "    plt.figure(figsize=(7, 5))\n",
    "    plt.scatter(x, y, alpha=0.6, edgecolors='k')\n",
    "    plt.title(title)\n",
    "    plt.xlabel(x_label)\n",
    "    plt.ylabel(y_label)\n",
    "    plt.grid(True)\n",
    "    plt.show()"
   ]
  },
  {
   "cell_type": "code",
   "execution_count": 15,
   "id": "03d9f567",
   "metadata": {},
   "outputs": [],
   "source": [
    "def get_community_colors(G):\n",
    "    communities = list(nx_comm.greedy_modularity_communities(G))\n",
    "    color_map = {}\n",
    "    for i, community in enumerate(communities):\n",
    "        for node in community:\n",
    "            color_map[node] = i\n",
    "    return [color_map[node] for node in G.nodes()]\n",
    "\n",
    "def plot_graph(G, name, layout_type=\"spring\", figsize=(20, 20), opacity=0.8, wdth=0.3):\n",
    "    colors = get_community_colors(G)\n",
    "\n",
    "    layout_funcs = {\n",
    "        \"spring\": nx.spring_layout,\n",
    "        \"kamada_kawai\": nx.kamada_kawai_layout,\n",
    "        \"spectral\": nx.spectral_layout,\n",
    "        \"shell\": nx.shell_layout,\n",
    "        \"random\": nx.random_layout,\n",
    "        \"fruchterman_reingold\": nx.fruchterman_reingold_layout\n",
    "    }\n",
    "    \n",
    "    pos = layout_funcs.get(layout_type, nx.spring_layout)(G)\n",
    "\n",
    "    plt.figure(figsize=figsize)\n",
    "    nx.draw_networkx_nodes(G, pos, node_color=colors, cmap=plt.get_cmap(\"tab10\"), node_size=30, alpha=0.9)\n",
    "    nx.draw_networkx_edges(G, pos, edge_color=\"black\", width=wdth, alpha=opacity)\n",
    "    plt.title(f\"{name} - {layout_type.capitalize()} Layout\", fontsize=32)\n",
    "    plt.axis('off')\n",
    "    plt.show()\n",
    "\n",
    "def plot_graph_all_layouts(G, name, figsize=(30, 20)):\n",
    "    colors = get_community_colors(G)\n",
    "\n",
    "    layout_funcs = {\n",
    "        \"spring\": nx.spring_layout,\n",
    "        \"kamada_kawai\": nx.kamada_kawai_layout,\n",
    "        \"spectral\": nx.spectral_layout,\n",
    "        \"shell\": nx.shell_layout,\n",
    "        \"random\": nx.random_layout,\n",
    "        \"fruchterman_reingold\": nx.fruchterman_reingold_layout\n",
    "    }\n",
    "\n",
    "    num_layouts = len(layout_funcs)\n",
    "    cols = 3\n",
    "    rows = (num_layouts + cols - 1) // cols\n",
    "\n",
    "    plt.figure(figsize=figsize)\n",
    "    \n",
    "    for i, (layout_name, layout_func) in enumerate(layout_funcs.items(), 1):\n",
    "        pos = layout_func(G)\n",
    "\n",
    "        plt.subplot(rows, cols, i)\n",
    "        nx.draw_networkx_nodes(G, pos, node_color=colors, cmap=plt.get_cmap(\"tab10\"), node_size=20, alpha=0.9)\n",
    "        nx.draw_networkx_edges(G, pos, edge_color=\"black\", width=0.3, alpha=0.3)\n",
    "        plt.title(f\"{layout_name.capitalize()} Layout\", fontsize=24)\n",
    "        plt.axis('off')\n",
    "\n",
    "    plt.suptitle(f\"{name} - All Layouts\", fontsize=36)\n",
    "    plt.tight_layout(rect=[0, 0.03, 1, 0.95])\n",
    "    plt.show()"
   ]
  },
  {
   "cell_type": "markdown",
   "id": "8ce28405",
   "metadata": {},
   "source": [
    "# Steam Network (**name**)"
   ]
  },
  {
   "cell_type": "markdown",
   "id": "32bc1168",
   "metadata": {},
   "source": [
    "#### Connectivity"
   ]
  },
  {
   "cell_type": "markdown",
   "id": "3f8f6ce3",
   "metadata": {},
   "source": [
    "#### Degree Distribution"
   ]
  },
  {
   "cell_type": "code",
   "execution_count": 16,
   "id": "8be3f567",
   "metadata": {},
   "outputs": [
    {
     "name": "stdout",
     "output_type": "stream",
     "text": [
      "Min Degree: 1\n",
      "Max Degree: 237\n",
      "Average Degree: 2.0088\n"
     ]
    },
    {
     "data": {
      "image/png": "[encoded data removed]",
      "text/plain": [
       "<Figure size 700x500 with 1 Axes>"
      ]
     },
     "metadata": {},
     "output_type": "display_data"
    }
   ],
   "source": [
    "degree_summary_and_distribution(G)"
   ]
  },
  {
   "cell_type": "markdown",
   "id": "540eb72c",
   "metadata": {},
   "source": [
    "#### Betweeness Centrality Distribution"
   ]
  },
  {
   "cell_type": "code",
   "execution_count": 17,
   "id": "3ca27450",
   "metadata": {},
   "outputs": [
    {
     "name": "stdout",
     "output_type": "stream",
     "text": [
      "Average Betweenness Centrality: 0.0010922574313952972\n",
      "Max Betweenness Centrality: 0.9266854326465057\n"
     ]
    },
    {
     "data": {
      "image/png": "[encoded data removed]",
      "text/plain": [
       "<Figure size 640x480 with 1 Axes>"
      ]
     },
     "metadata": {},
     "output_type": "display_data"
    }
   ],
   "source": [
    "betweenness_centrality_distribution(G)"
   ]
  },
  {
   "cell_type": "markdown",
   "id": "b17f3b0d",
   "metadata": {},
   "source": [
    "#### Clustering Coefficient"
   ]
  },
  {
   "cell_type": "code",
   "execution_count": 18,
   "id": "cfa087b1",
   "metadata": {},
   "outputs": [
    {
     "name": "stdout",
     "output_type": "stream",
     "text": [
      "Average Clustering Coefficient: 0.0038696250867615413\n",
      "Edge Density: 0.0008038415366146459\n",
      "Clustering Coefficient is high compared to the edge density.\n"
     ]
    },
    {
     "data": {
      "image/png": "[encoded data removed]",
      "text/plain": [
       "<Figure size 600x500 with 1 Axes>"
      ]
     },
     "metadata": {},
     "output_type": "display_data"
    },
    {
     "data": {
      "text/plain": [
       "0.0038696250867615413"
      ]
     },
     "execution_count": 18,
     "metadata": {},
     "output_type": "execute_result"
    }
   ],
   "source": [
    "clustering_coefficient_and_degree_distribution_plot(G)"
   ]
  },
  {
   "cell_type": "markdown",
   "id": "fa0138c9",
   "metadata": {},
   "source": [
    "#### Average Shortest Path"
   ]
  },
  {
   "cell_type": "code",
   "execution_count": 19,
   "id": "0a22a2ba",
   "metadata": {},
   "outputs": [
    {
     "ename": "NetworkXError",
     "evalue": "Graph is not connected.",
     "output_type": "error",
     "traceback": [
      "\u001b[31m---------------------------------------------------------------------------\u001b[39m",
      "\u001b[31mNetworkXError\u001b[39m                             Traceback (most recent call last)",
      "\u001b[36mCell\u001b[39m\u001b[36m \u001b[39m\u001b[32mIn[19]\u001b[39m\u001b[32m, line 1\u001b[39m\n\u001b[32m----> \u001b[39m\u001b[32m1\u001b[39m \u001b[43mshortest_path_length_and_plot\u001b[49m\u001b[43m(\u001b[49m\u001b[43mG\u001b[49m\u001b[43m)\u001b[49m\n",
      "\u001b[36mCell\u001b[39m\u001b[36m \u001b[39m\u001b[32mIn[13]\u001b[39m\u001b[32m, line 136\u001b[39m, in \u001b[36mshortest_path_length_and_plot\u001b[39m\u001b[34m(largest_cc)\u001b[39m\n\u001b[32m    131\u001b[39m \u001b[38;5;28;01mdef\u001b[39;00m\u001b[38;5;250m \u001b[39m\u001b[34mshortest_path_length_and_plot\u001b[39m(largest_cc: nx.Graph):\n\u001b[32m    132\u001b[39m     \u001b[38;5;66;03m# Shortest path: minimum number of edges required to travel from one node to another.\u001b[39;00m\n\u001b[32m    133\u001b[39m     \u001b[38;5;66;03m# Interpretation: The degree of separation between two users measured in friendships. \u001b[39;00m\n\u001b[32m    134\u001b[39m     \u001b[38;5;66;03m# NOTE: compare with no. nodes? \u001b[39;00m\n\u001b[32m--> \u001b[39m\u001b[32m136\u001b[39m     avg_shortest_path_length = \u001b[43mnx\u001b[49m\u001b[43m.\u001b[49m\u001b[43maverage_shortest_path_length\u001b[49m\u001b[43m(\u001b[49m\u001b[43mlargest_cc\u001b[49m\u001b[43m)\u001b[49m\n\u001b[32m    137\u001b[39m     diameter = nx.diameter(largest_cc)\n\u001b[32m    139\u001b[39m     \u001b[38;5;28mprint\u001b[39m(\u001b[33mf\u001b[39m\u001b[33m\"\u001b[39m\u001b[33mAverage Shortest Path Length: \u001b[39m\u001b[38;5;132;01m{\u001b[39;00mavg_shortest_path_length\u001b[38;5;132;01m}\u001b[39;00m\u001b[33m\"\u001b[39m)\n",
      "\u001b[36mFile \u001b[39m\u001b[32mc:\\Users\\sonia\\Desktop\\master\\SNA-steam\\.venv\\Lib\\site-packages\\networkx\\utils\\decorators.py:788\u001b[39m, in \u001b[36margmap.__call__.<locals>.func\u001b[39m\u001b[34m(_argmap__wrapper, *args, **kwargs)\u001b[39m\n\u001b[32m    787\u001b[39m \u001b[38;5;28;01mdef\u001b[39;00m\u001b[38;5;250m \u001b[39m\u001b[34mfunc\u001b[39m(*args, __wrapper=\u001b[38;5;28;01mNone\u001b[39;00m, **kwargs):\n\u001b[32m--> \u001b[39m\u001b[32m788\u001b[39m     \u001b[38;5;28;01mreturn\u001b[39;00m \u001b[43margmap\u001b[49m\u001b[43m.\u001b[49m\u001b[43m_lazy_compile\u001b[49m\u001b[43m(\u001b[49m\u001b[43m__wrapper\u001b[49m\u001b[43m)\u001b[49m\u001b[43m(\u001b[49m\u001b[43m*\u001b[49m\u001b[43margs\u001b[49m\u001b[43m,\u001b[49m\u001b[43m \u001b[49m\u001b[43m*\u001b[49m\u001b[43m*\u001b[49m\u001b[43mkwargs\u001b[49m\u001b[43m)\u001b[49m\n",
      "\u001b[36mFile \u001b[39m\u001b[32m<class 'networkx.utils.decorators.argmap'> compilation 33:3\u001b[39m, in \u001b[36margmap_average_shortest_path_length_30\u001b[39m\u001b[34m(G, weight, method, backend, **backend_kwargs)\u001b[39m\n\u001b[32m      1\u001b[39m \u001b[38;5;28;01mimport\u001b[39;00m\u001b[38;5;250m \u001b[39m\u001b[34;01mbz2\u001b[39;00m\n\u001b[32m      2\u001b[39m \u001b[38;5;28;01mimport\u001b[39;00m\u001b[38;5;250m \u001b[39m\u001b[34;01mcollections\u001b[39;00m\n\u001b[32m----> \u001b[39m\u001b[32m3\u001b[39m \u001b[38;5;28;01mimport\u001b[39;00m\u001b[38;5;250m \u001b[39m\u001b[34;01mgzip\u001b[39;00m\n\u001b[32m      4\u001b[39m \u001b[38;5;28;01mimport\u001b[39;00m\u001b[38;5;250m \u001b[39m\u001b[34;01minspect\u001b[39;00m\n\u001b[32m      5\u001b[39m \u001b[38;5;28;01mimport\u001b[39;00m\u001b[38;5;250m \u001b[39m\u001b[34;01mitertools\u001b[39;00m\n",
      "\u001b[36mFile \u001b[39m\u001b[32mc:\\Users\\sonia\\Desktop\\master\\SNA-steam\\.venv\\Lib\\site-packages\\networkx\\utils\\backends.py:967\u001b[39m, in \u001b[36m_dispatchable.__call__\u001b[39m\u001b[34m(self, backend, *args, **kwargs)\u001b[39m\n\u001b[32m    965\u001b[39m     \u001b[38;5;28;01mif\u001b[39;00m backend \u001b[38;5;129;01mis\u001b[39;00m \u001b[38;5;129;01mnot\u001b[39;00m \u001b[38;5;28;01mNone\u001b[39;00m \u001b[38;5;129;01mand\u001b[39;00m backend != \u001b[33m\"\u001b[39m\u001b[33mnetworkx\u001b[39m\u001b[33m\"\u001b[39m:\n\u001b[32m    966\u001b[39m         \u001b[38;5;28;01mraise\u001b[39;00m \u001b[38;5;167;01mImportError\u001b[39;00m(\u001b[33mf\u001b[39m\u001b[33m\"\u001b[39m\u001b[33m'\u001b[39m\u001b[38;5;132;01m{\u001b[39;00mbackend\u001b[38;5;132;01m}\u001b[39;00m\u001b[33m'\u001b[39m\u001b[33m backend is not installed\u001b[39m\u001b[33m\"\u001b[39m)\n\u001b[32m--> \u001b[39m\u001b[32m967\u001b[39m     \u001b[38;5;28;01mreturn\u001b[39;00m \u001b[38;5;28;43mself\u001b[39;49m\u001b[43m.\u001b[49m\u001b[43morig_func\u001b[49m\u001b[43m(\u001b[49m\u001b[43m*\u001b[49m\u001b[43margs\u001b[49m\u001b[43m,\u001b[49m\u001b[43m \u001b[49m\u001b[43m*\u001b[49m\u001b[43m*\u001b[49m\u001b[43mkwargs\u001b[49m\u001b[43m)\u001b[49m\n\u001b[32m    969\u001b[39m \u001b[38;5;66;03m# Use `backend_name` in this function instead of `backend`.\u001b[39;00m\n\u001b[32m    970\u001b[39m \u001b[38;5;66;03m# This is purely for aesthetics and to make it easier to search for this\u001b[39;00m\n\u001b[32m    971\u001b[39m \u001b[38;5;66;03m# variable since \"backend\" is used in many comments and log/error messages.\u001b[39;00m\n\u001b[32m    972\u001b[39m backend_name = backend\n",
      "\u001b[36mFile \u001b[39m\u001b[32mc:\\Users\\sonia\\Desktop\\master\\SNA-steam\\.venv\\Lib\\site-packages\\networkx\\algorithms\\shortest_paths\\generic.py:429\u001b[39m, in \u001b[36maverage_shortest_path_length\u001b[39m\u001b[34m(G, weight, method)\u001b[39m\n\u001b[32m    427\u001b[39m \u001b[38;5;66;03m# Shortest path length is undefined if the graph is not connected.\u001b[39;00m\n\u001b[32m    428\u001b[39m \u001b[38;5;28;01mif\u001b[39;00m \u001b[38;5;129;01mnot\u001b[39;00m G.is_directed() \u001b[38;5;129;01mand\u001b[39;00m \u001b[38;5;129;01mnot\u001b[39;00m nx.is_connected(G):\n\u001b[32m--> \u001b[39m\u001b[32m429\u001b[39m     \u001b[38;5;28;01mraise\u001b[39;00m nx.NetworkXError(\u001b[33m\"\u001b[39m\u001b[33mGraph is not connected.\u001b[39m\u001b[33m\"\u001b[39m)\n\u001b[32m    431\u001b[39m \u001b[38;5;66;03m# Compute all-pairs shortest paths.\u001b[39;00m\n\u001b[32m    432\u001b[39m \u001b[38;5;28;01mdef\u001b[39;00m\u001b[38;5;250m \u001b[39m\u001b[34mpath_length\u001b[39m(v):\n",
      "\u001b[31mNetworkXError\u001b[39m: Graph is not connected."
     ]
    }
   ],
   "source": [
    "shortest_path_length_and_plot(G)"
   ]
  },
  {
   "cell_type": "markdown",
   "id": "38d4bcfa",
   "metadata": {},
   "source": [
    "#### Visualization"
   ]
  },
  {
   "cell_type": "markdown",
   "id": "7af4f8df",
   "metadata": {},
   "source": [
    "#### Important Nodes"
   ]
  },
  {
   "cell_type": "markdown",
   "id": "7718751b",
   "metadata": {},
   "source": [
    "**Degree Centrality**"
   ]
  },
  {
   "cell_type": "markdown",
   "id": "0b5347ed",
   "metadata": {},
   "source": [
    "**Betweeness Centrality**"
   ]
  },
  {
   "cell_type": "markdown",
   "id": "732b0dc7",
   "metadata": {},
   "source": [
    "**Closeness Centrality**"
   ]
  },
  {
   "cell_type": "markdown",
   "id": "2eb31be7",
   "metadata": {},
   "source": [
    "**Egienvector Centrality**"
   ]
  },
  {
   "cell_type": "markdown",
   "id": "bb681a6f",
   "metadata": {},
   "source": [
    "### Network Type Analysis"
   ]
  },
  {
   "cell_type": "markdown",
   "id": "f1aa5d59",
   "metadata": {},
   "source": [
    "### Communities"
   ]
  }
 ],
 "metadata": {
  "kernelspec": {
   "display_name": ".venv",
   "language": "python",
   "name": "python3"
  },
  "language_info": {
   "codemirror_mode": {
    "name": "ipython",
    "version": 3
   },
   "file_extension": ".py",
   "mimetype": "text/x-python",
   "name": "python",
   "nbconvert_exporter": "python",
   "pygments_lexer": "ipython3",
   "version": "3.12.2"
  }
 },
 "nbformat": 4,
 "nbformat_minor": 5
}
